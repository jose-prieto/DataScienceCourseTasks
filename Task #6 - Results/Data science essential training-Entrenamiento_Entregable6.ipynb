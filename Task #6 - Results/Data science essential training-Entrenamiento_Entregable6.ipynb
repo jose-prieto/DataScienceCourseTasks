{
 "cells": [
  {
   "cell_type": "markdown",
   "metadata": {},
   "source": [
    "# Modelo de regresión para la predicción de precios de automóviles\n",
    "## Data science essential training\n",
    "### DiplomadosOnline.com"
   ]
  },
  {
   "cell_type": "markdown",
   "metadata": {},
   "source": [
    "Ejecute las siguientes lineas para continuar."
   ]
  },
  {
   "cell_type": "code",
   "execution_count": 2,
   "metadata": {},
   "outputs": [],
   "source": [
    "import pandas as pd\n",
    "import numpy as np\n",
    "\n",
    "import seaborn as sns\n",
    "from matplotlib import pyplot as plt"
   ]
  },
  {
   "cell_type": "code",
   "execution_count": 3,
   "metadata": {},
   "outputs": [],
   "source": [
    "df = pd.read_csv('data.csv')"
   ]
  },
  {
   "cell_type": "code",
   "execution_count": 4,
   "metadata": {},
   "outputs": [],
   "source": [
    "df.columns = df.columns.str.lower().str.replace(' ', '_')\n",
    "\n",
    "string_columns = list(df.dtypes[df.dtypes == 'object'].index)\n",
    "\n",
    "for col in string_columns:\n",
    "    df[col] = df[col].str.lower().str.replace(' ', '_')"
   ]
  },
  {
   "cell_type": "code",
   "execution_count": 5,
   "metadata": {},
   "outputs": [],
   "source": [
    "np.random.seed(2)\n",
    "\n",
    "n = len(df)\n",
    "\n",
    "n_val = int(0.2 * n)\n",
    "n_test = int(0.2 * n)\n",
    "n_train = n - (n_val + n_test)\n",
    "\n",
    "idx = np.arange(n)\n",
    "np.random.shuffle(idx)\n",
    "\n",
    "df_shuffled = df.iloc[idx]\n",
    "\n",
    "df_train = df_shuffled.iloc[:n_train].copy()\n",
    "df_val = df_shuffled.iloc[n_train:n_train+n_val].copy()\n",
    "df_test = df_shuffled.iloc[n_train+n_val:].copy()"
   ]
  },
  {
   "cell_type": "code",
   "execution_count": 6,
   "metadata": {},
   "outputs": [],
   "source": [
    "y_train_orig = df_train.msrp.values\n",
    "y_val_orig = df_val.msrp.values\n",
    "y_test_orig = df_test.msrp.values\n",
    "\n",
    "y_train = np.log1p(df_train.msrp.values)\n",
    "y_val = np.log1p(df_val.msrp.values)\n",
    "y_test = np.log1p(df_test.msrp.values)\n",
    "\n",
    "del df_train['msrp']\n",
    "del df_val['msrp']\n",
    "del df_test['msrp']"
   ]
  },
  {
   "cell_type": "code",
   "execution_count": 7,
   "metadata": {},
   "outputs": [],
   "source": [
    "def train_linear_regression(X, y):\n",
    "    ones = np.ones(X.shape[0])\n",
    "    X = np.column_stack([ones, X])\n",
    "\n",
    "    XTX = X.T.dot(X)\n",
    "    XTX_inv = np.linalg.inv(XTX)\n",
    "    w = XTX_inv.dot(X.T).dot(y)\n",
    "    \n",
    "    return w[0], w[1:]"
   ]
  },
  {
   "cell_type": "markdown",
   "metadata": {},
   "source": [
    "## 3) Resultados\n",
    "\n",
    "Ahora tenemos una función para entrenar un modelo de regresión lineal a nuestra a nuestra disposición, ası́ que vamos a utilizarla para construir una solución básica simple.\n",
    "\n",
    "### 3.1 Solución básica simple\n",
    "\n",
    "Sin embargo, para poder utilizarlo, necesitamos tener algunos datos: una matriz $X$ y un vector con $y$.\n",
    "\n",
    "Ya hemos preparado la $y$, pero todavía no tenemos la $X$: lo que tenemos ahora mismo es un dataframe, no una matriz.\n",
    "\n",
    "Ası́ que tenemos que extraer algunas caracterı́sticas de nuestro conjunto de datos para crear esta matriz $X$.\n",
    "\n",
    "Empezaremos con una forma muy ingenua de crear caracterı́sticas: seleccionaremos algunas caracterı́sticas numéricas y formaremos la matriz $X$ a partir de ellas.\n",
    "\n",
    "Incluimos las siguientes caracterı́sticas:\n",
    "\n",
    "- motor cv (engine hp)\n",
    "\n",
    "- cilindros del motor (engine cylinders)\n",
    "\n",
    "- consumo en carretera (highway mpg)\n",
    "\n",
    "- consumo en ciudad (city mpg)\n",
    "\n",
    "- popularidad (popularity)"
   ]
  },
  {
   "cell_type": "code",
   "execution_count": 8,
   "metadata": {},
   "outputs": [],
   "source": [
    "base = ['engine_hp', 'engine_cylinders', 'highway_mpg', 'city_mpg', 'popularity']"
   ]
  },
  {
   "cell_type": "markdown",
   "metadata": {},
   "source": [
    "y luego para los valores faltantes:"
   ]
  },
  {
   "cell_type": "code",
   "execution_count": 9,
   "metadata": {},
   "outputs": [],
   "source": [
    "def prepare_X(df):\n",
    "    df_num = df[base]\n",
    "    df_num = df_num.fillna(0)\n",
    "    X = df_num.values\n",
    "    return X"
   ]
  },
  {
   "cell_type": "markdown",
   "metadata": {},
   "source": [
    "**Entrenamiento:**\n",
    "\n",
    "Explique cuál es el tratamiento aplicado, en este caso, a los valores faltantes (esto se desprende del código)"
   ]
  },
  {
   "cell_type": "markdown",
   "metadata": {},
   "source": [
    "Ahora, aplicamos la función de preparación anterior a los datos de prueba df train y lo guardamos en una matriz llamada $X\\_train$, es decir, "
   ]
  },
  {
   "cell_type": "code",
   "execution_count": 12,
   "metadata": {},
   "outputs": [],
   "source": [
    "X_train = prepare_X(df_train)"
   ]
  },
  {
   "cell_type": "markdown",
   "metadata": {},
   "source": [
    "La matriz $X\\_train$ la usamos como input en nuestro modelo, a través de la función train linear regression que hemos creado, es decir,"
   ]
  },
  {
   "cell_type": "code",
   "execution_count": 13,
   "metadata": {},
   "outputs": [],
   "source": [
    "b_0, b = train_linear_regression(X_train, y_train)"
   ]
  },
  {
   "cell_type": "markdown",
   "metadata": {},
   "source": [
    "**Entrenamiento**\n",
    "\n",
    "Imprima los valores de $\\beta$ y $\\beta_{0}$ ¿Qué observa?"
   ]
  },
  {
   "cell_type": "markdown",
   "metadata": {},
   "source": [
    "Acabamos de entrenar el primer modelo. Ahora podemos aplicarlo a los datos de entrenamiento para ver que tan bien predice:"
   ]
  },
  {
   "cell_type": "code",
   "execution_count": 14,
   "metadata": {},
   "outputs": [],
   "source": [
    "y_pred = b_0 + X_train.dot(b)"
   ]
  },
  {
   "cell_type": "markdown",
   "metadata": {},
   "source": [
    "Ploteamos los valores predichos y los precios reales,"
   ]
  },
  {
   "cell_type": "code",
   "execution_count": 25,
   "metadata": {},
   "outputs": [
    {
     "data": {
      "image/png": "[encoded data removed]",
      "text/plain": [
       "<Figure size 432x288 with 1 Axes>"
      ]
     },
     "metadata": {},
     "output_type": "display_data"
    }
   ],
   "source": [
    "plt.figure(figsize=(6, 4))\n",
    "\n",
    "sns.histplot(y_train, label='target', color='#222222', alpha=0.6, bins=40)\n",
    "sns.histplot(y_pred, label='prediction', color='#aaaaaa', alpha=0.8, bins=40)\n",
    "\n",
    "plt.legend()\n",
    "\n",
    "plt.ylabel('Frequency')\n",
    "plt.xlabel('Log(Price + 1)')\n",
    "plt.title('Predicción vs DIstribución real')\n",
    "\n",
    "plt.show()"
   ]
  },
  {
   "cell_type": "markdown",
   "metadata": {},
   "source": [
    "**Entrenamiento:**\n",
    "\n",
    "Describa cada linea del código.\n",
    "\n",
    "¿Qué finalidad tiene la realización de este plot?\n",
    "\n",
    "¿Qué puede concluir del gráfico?"
   ]
  },
  {
   "cell_type": "markdown",
   "metadata": {},
   "source": [
    "### 3.2 RMSE\n",
    "\n",
    "Ahora, necesitamos una métrica que cuantifique la calidad del modelo.\n",
    "\n",
    "La más utilizada es el **error cuadrático medio (RMSE)**.\n",
    "\n",
    "El RMSE nos indica la magnitud de los errores que comete nuestro modelo. Se calcula con la siguiente fórmula:\n",
    "\n",
    "$RMSE = \\sqrt{\\frac{1}{m}\\sum_{i=1}^{m}(f(x_{i})-y_{i})^{2}}$,\n",
    "\n",
    " es decir, "
   ]
  },
  {
   "cell_type": "code",
   "execution_count": 19,
   "metadata": {},
   "outputs": [],
   "source": [
    "def rmse(y, y_pred):\n",
    "    error = y_pred - y\n",
    "    mse = (error ** 2).mean()\n",
    "    return np.sqrt(mse)"
   ]
  },
  {
   "cell_type": "markdown",
   "metadata": {},
   "source": [
    "**Entrenamiento**\n",
    "\n",
    "- Aplique la función creada a los vectores $y\\_train$, $y\\_pred$. ¿Qué puede decir del resultado?"
   ]
  },
  {
   "cell_type": "markdown",
   "metadata": {},
   "source": [
    "### 3.3 Validación del modelo\n",
    "\n",
    "Hemos calculado el **RMSE** en el conjunto de entrenamiento. El resultado es útil de conocer, pero no refleja la forma en que se utilizará el modelo posteriormente.\n",
    "\n",
    "El modelo se utilizará para predecir el precio de los autos que no ha visto antes. Para ello, reservamos un conjunto de validación.\n",
    "\n",
    "Ya hemos dividido nuestros datos en varias partes: $df\\_train$ , $df\\_val$ , y $df\\_test$ .\n",
    "\n",
    "También hemos creado una matriz $X\\_train$ a partir de $df\\_train$ y hemos utilizado $X\\_train$ e $y\\_train$ para entrenar el modelo.\n",
    "\n",
    "Ahora tenemos que hacer los mismos pasos para obtener $X\\_val$ (una matriz con caracterśticas calculadas a partir del conjunto de datos de validación).\n",
    "\n",
    "Luego, podemos aplicar el modelo a $X\\_val$ para obtener predicciones y compararlas con $y\\_val$"
   ]
  },
  {
   "cell_type": "code",
   "execution_count": 20,
   "metadata": {},
   "outputs": [],
   "source": [
    "X_val = prepare_X(df_val)\n",
    "y_pred = b_0 + X_val.dot(b)"
   ]
  },
  {
   "cell_type": "code",
   "execution_count": 21,
   "metadata": {},
   "outputs": [
    {
     "data": {
      "text/plain": [
       "0.7616530991301607"
      ]
     },
     "execution_count": 21,
     "metadata": {},
     "output_type": "execute_result"
    }
   ],
   "source": [
    "rmse(y_val, y_pred)"
   ]
  },
  {
   "cell_type": "markdown",
   "metadata": {},
   "source": [
    "**Entrenamento:**\n",
    "\n",
    "¿Qué puede concluir? ¿Hay una mejora?"
   ]
  },
  {
   "cell_type": "markdown",
   "metadata": {},
   "source": [
    "### Ingeniería de características simples\n",
    "\n",
    "Ya tenemos un modelo de referencia sencillo con características simples. Para mejorar nuestro modelo podemos añadir más características al modelo: creamos otras y las añadimos a las características existentes. \n",
    "\n",
    "Este proceso se denomina **ingeniería de características**.\n",
    "\n",
    "Como ya hemos creado el marco de validación, podemos comprobar fácilmente si la adición de nuevas características mejora la calidad del modelo. \n",
    "\n",
    "Nuestro objetivo **es mejorar el RMSE calculado sobre los datos de validación**.\n",
    "\n",
    "En primer lugar, creamos una nueva característica, \"`edad`\", a partir de la característica \"`year`\". \n",
    "\n",
    "La edad de un auto debería ser muy útil para predecir su precio: intuitivamente, cuanto más nuevo sea el coche, más caro debería ser.\n",
    "\n",
    "Dado que el conjunto de datos se creó en 2017 (lo que podemos verificar comprobando `df_train.year.max()` ), podemos calcular la edad restando el año en que se fabricó el auto de 2017.\n",
    "\n",
    "Ya sabemos que tendremos que aplicar el mismo preprocesamiento dos veces: a los conjuntos de entrenamiento y de validación. \n",
    "\n",
    "Como no queremos repetir el código de extracción de características múltiples veces, vamos a poner esta lógica en la función `prepare_X`.\n"
   ]
  },
  {
   "cell_type": "code",
   "execution_count": 22,
   "metadata": {},
   "outputs": [],
   "source": [
    "def prepare_X(df):\n",
    "    df = df.copy()\n",
    "    features = base.copy()\n",
    "\n",
    "    df['edad'] = 2017 - df.year\n",
    "    features.append('edad')\n",
    "\n",
    "    df_num = df[features]\n",
    "    df_num = df_num.fillna(0)\n",
    "    X = df_num.values\n",
    "    return X"
   ]
  },
  {
   "cell_type": "markdown",
   "metadata": {},
   "source": [
    "**Entrenamiento**\n",
    "\n",
    "¿Qué hacemos en cada linea del código?"
   ]
  },
  {
   "cell_type": "markdown",
   "metadata": {},
   "source": [
    "Probemos si la adición de la característica \"`edad`\" conlleva alguna mejora:"
   ]
  },
  {
   "cell_type": "code",
   "execution_count": 24,
   "metadata": {},
   "outputs": [
    {
     "name": "stdout",
     "output_type": "stream",
     "text": [
      "Entrenamiento: 0.5175055465840046\n",
      "validación: 0.5172055461058338\n"
     ]
    }
   ],
   "source": [
    "X_train = prepare_X(df_train)\n",
    "b_0, b = train_linear_regression(X_train, y_train)\n",
    "\n",
    "y_pred = b_0 + X_train.dot(b)\n",
    "print('Entrenamiento:', rmse(y_train, y_pred))\n",
    "\n",
    "X_val = prepare_X(df_val)\n",
    "y_pred = b_0 + X_val.dot(b)\n",
    "print('validación:', rmse(y_val, y_pred))"
   ]
  },
  {
   "cell_type": "markdown",
   "metadata": {},
   "source": [
    "El error de validación es de $0,517$, lo que supone una buena mejora con respecto a $0,76$, el valor que teníamos en la solución de referencia.\n",
    "\n",
    "Por tanto, concluimos que añadir la \"`edad`\" es realmente útil a la hora de hacer predicciones.\n",
    "\n",
    "También podemos observar la distribución de los valores predichos:"
   ]
  },
  {
   "cell_type": "code",
   "execution_count": 26,
   "metadata": {},
   "outputs": [
    {
     "data": {
      "image/png": "[encoded data removed]",
      "text/plain": [
       "<Figure size 432x288 with 1 Axes>"
      ]
     },
     "metadata": {},
     "output_type": "display_data"
    }
   ],
   "source": [
    "plt.figure(figsize=(6, 4))\n",
    "\n",
    "\n",
    "sns.histplot(y_val, label='target', color='#222222', alpha=0.6, bins=40)\n",
    "sns.histplot(y_pred, label='prediction', color='#aaaaaa', alpha=0.8, bins=40)\n",
    "\n",
    "plt.legend()\n",
    "\n",
    "plt.ylabel('Frequency')\n",
    "plt.xlabel('Log(Price + 1)')\n",
    "plt.title('Predicción vs Distribución reañ')\n",
    "\n",
    "plt.show()"
   ]
  },
  {
   "cell_type": "markdown",
   "metadata": {},
   "source": [
    "### Manejo de variables categóricas\n",
    "\n",
    "Vemos que añadir \"`edad`\" es bastante útil para el modelo. Sigamos añadiendo más características. Una de las columnas que podemos utilizar a continuación es el número de puertas. \n",
    "\n",
    "Esta variable parece ser numérica y puede tomar tres valores: 2, 3 y 4 puertas. \n",
    "\n",
    "Aunque es tentador poner la variable en el modelo tal cual, no es realmente una variable numérica: no podemos decir que al añadir una puerta más, el precio de un auto crece (o baja) en una determinada cantidad de dinero.La variable es más bien categórica. \n",
    "\n",
    "Podemos utilizar las variables categóricas en un modelo de múltiples maneras. Una de las formas más sencillas es codificar dichas variables mediante un conjunto de características binarias, con una característica separada para cada valor distinto.\n",
    "\n",
    "En nuestro caso, crearemos tres características binarias: `num_puertas_2` , `num_puertas_3` , y `num_puertas_4` . Si el auto tiene dos puertas, `num_doors_2` será 1 y el resto será 0, y así sucesivamente.\n",
    "\n",
    "Este método de codificación de variables categóricas se denomina **one-hot encoding**.\n",
    "\n"
   ]
  },
  {
   "cell_type": "code",
   "execution_count": 32,
   "metadata": {},
   "outputs": [],
   "source": [
    "def prepare_X(df):\n",
    "    df = df.copy()\n",
    "    features = base.copy()\n",
    "\n",
    "    df['edad'] = 2017 - df.year\n",
    "    features.append('edad')\n",
    "\n",
    "    for v in [2, 3, 4]:\n",
    "        feature = 'num_puertas_%s' % v\n",
    "        df[feature] = (df['number_of_doors'] == v).astype(int)\n",
    "        features.append(feature)\n",
    "\n",
    "    for v in ['chevrolet', 'ford', 'volkswagen', 'toyota', 'dodge']:\n",
    "        feature = 'is_make_%s' % v\n",
    "        df[feature] = (df['make'] == v).astype(int)\n",
    "        features.append(feature)\n",
    "\n",
    "    df_num = df[features]\n",
    "    df_num = df_num.fillna(0)\n",
    "    X = df_num.values\n",
    "    return X"
   ]
  },
  {
   "cell_type": "markdown",
   "metadata": {},
   "source": [
    "**Entrenamiento**\n",
    "\n",
    "¿Qué hacemos en cada linea del código?\n"
   ]
  },
  {
   "cell_type": "markdown",
   "metadata": {},
   "source": [
    "Comprobemos si este código mejora el RMSE del modelo:"
   ]
  },
  {
   "cell_type": "code",
   "execution_count": 33,
   "metadata": {},
   "outputs": [
    {
     "name": "stdout",
     "output_type": "stream",
     "text": [
      "Entrenamiento : 0.5058876515487503\n",
      "Validación: 0.50760388495572\n"
     ]
    }
   ],
   "source": [
    "X_train = prepare_X(df_train)\n",
    "b_0, b = train_linear_regression(X_train, y_train)\n",
    "\n",
    "y_pred = b_0 + X_train.dot(b)\n",
    "print('Entrenamiento :', rmse(y_train, y_pred))\n",
    "\n",
    "X_val = prepare_X(df_val)\n",
    "y_pred = b_0 + X_val.dot(b)\n",
    "print('Validación:', rmse(y_val, y_pred))"
   ]
  },
  {
   "cell_type": "markdown",
   "metadata": {},
   "source": [
    "El valor anterior era de $0,517$, por lo que conseguimos mejorar aún más la puntuación del RMSE.\n",
    "\n",
    "Podemos utilizar algunas variables más: `engine_fuel_type` , `transmission_type` , `driven_ wheels` , `market_category` , `vehicle_size` , y `vehicle_style` . \n",
    "\n",
    "Hagamos lo mismo para ellos. Después de las modificaciones, `prepare_X` empieza a ser un poco más complejo."
   ]
  },
  {
   "cell_type": "markdown",
   "metadata": {},
   "source": [
    "**Entrenamiento**\n",
    "\n",
    "Agregue cada una de as transformaciones de forma secuencial, y mida en cada paso la puntuación `RMSE`.¿Qué observa?"
   ]
  },
  {
   "cell_type": "markdown",
   "metadata": {},
   "source": [
    "Ahora, hacemos las transformación con todas las variables, es decir,"
   ]
  },
  {
   "cell_type": "code",
   "execution_count": 34,
   "metadata": {},
   "outputs": [],
   "source": [
    "def prepare_X(df):\n",
    "    df = df.copy()\n",
    "    features = base.copy()\n",
    "\n",
    "    df['edad'] = 2017 - df.year\n",
    "    features.append('edad')\n",
    "    \n",
    "    for v in [2, 3, 4]:\n",
    "        feature = 'num_puertas_%s' % v\n",
    "        df[feature] = (df['number_of_doors'] == v).astype(int)\n",
    "        features.append(feature)\n",
    "\n",
    "    for v in ['chevrolet', 'ford', 'volkswagen', 'toyota', 'dodge']:\n",
    "        feature = 'es_construido_%s' % v\n",
    "        df[feature] = (df['make'] == v).astype(int)\n",
    "        features.append(feature)\n",
    "\n",
    "    for v in ['regular_unleaded', 'premium_unleaded_(required)', \n",
    "              'premium_unleaded_(recommended)', 'flex-fuel_(unleaded/e85)']:\n",
    "        feature = 'es_tipo_%s' % v\n",
    "        df[feature] = (df['engine_fuel_type'] == v).astype(int)\n",
    "        features.append(feature)\n",
    "\n",
    "    for v in ['automatic', 'manual', 'automated_manual']:\n",
    "        feature = 'es_transmision_%s' % v\n",
    "        df[feature] = (df['transmission_type'] == v).astype(int)\n",
    "        features.append(feature)\n",
    "\n",
    "    for v in ['front_wheel_drive', 'rear_wheel_drive', 'all_wheel_drive', 'four_wheel_drive']:\n",
    "        feature = 'es_driven_wheens_%s' % v\n",
    "        df[feature] = (df['driven_wheels'] == v).astype(int)\n",
    "        features.append(feature)\n",
    "\n",
    "    for v in ['crossover', 'flex_fuel', 'luxury', 'luxury,performance', 'hatchback']:\n",
    "        feature = 'es_mc_%s' % v\n",
    "        df[feature] = (df['market_category'] == v).astype(int)\n",
    "        features.append(feature)\n",
    "\n",
    "    for v in ['compact', 'midsize', 'large']:\n",
    "        feature = 'is_size_%s' % v\n",
    "        df[feature] = (df['vehicle_size'] == v).astype(int)\n",
    "        features.append(feature)\n",
    "\n",
    "    for v in ['sedan', '4dr_suv', 'coupe', 'convertible', '4dr_hatchback']:\n",
    "        feature = 'es_estilo_%s' % v\n",
    "        df[feature] = (df['vehicle_style'] == v).astype(int)\n",
    "        features.append(feature)\n",
    "\n",
    "    df_num = df[features]\n",
    "    df_num = df_num.fillna(0)\n",
    "    X = df_num.values\n",
    "    return X"
   ]
  },
  {
   "cell_type": "markdown",
   "metadata": {},
   "source": [
    "Verifiquemos si mejora el modelo con estas características,"
   ]
  },
  {
   "cell_type": "code",
   "execution_count": 35,
   "metadata": {},
   "outputs": [
    {
     "name": "stdout",
     "output_type": "stream",
     "text": [
      "Entrenamiento: 75.06709580876142\n",
      "Validacion: 36.955146915047585\n"
     ]
    }
   ],
   "source": [
    "X_train = prepare_X(df_train)\n",
    "b_0, b = train_linear_regression(X_train, y_train)\n",
    "\n",
    "y_pred = b_0 + X_train.dot(b)\n",
    "print('Entrenamiento:', rmse(y_train, y_pred))\n",
    "\n",
    "X_val = prepare_X(df_val)\n",
    "y_pred = b_0 + X_val.dot(b)\n",
    "print('Validacion:', rmse(y_val, y_pred))"
   ]
  },
  {
   "cell_type": "markdown",
   "metadata": {},
   "source": [
    "El número que vemos es significativamente peor que antes. Obtenemos $36,9$, que es mucho más que el $0,5$ que teníamos antes.\n",
    "\n",
    "En lugar de ayudar, las nuevas características empeoraron mucho el resultado. \n",
    "\n",
    "Por suerte, disponemos de la validación que nos ayudan a detectar este problema. "
   ]
  },
  {
   "cell_type": "markdown",
   "metadata": {},
   "source": [
    "### Regularización\n",
    "\n",
    "Hemos visto que añadir nuevas características no siempre ayuda, y en nuestro caso, hizo las cosas mucho peor. \n",
    "\n",
    "La razón de este comportamiento es la inestabilidad numérica.\n",
    "\n",
    "Recordemos la fórmula de la ecuación normal:\n",
    "\n",
    "$\\beta = (X^{T}X)^{-1}X^{T}y$\n",
    "\n",
    "La inversión es el problema en nuestro caso, $(X^{T}X)^{-1}$ . A veces, al añadir nuevas columnas a X, podemos añadir accidentalmente una columna que es una combinación de otras columnas.\n",
    "\n",
    "Cuando esto ocurre, $(X^{T}X)^{-1}$ se vuelve indeterminada o singular, lo que significa que no es no es posible encontrar una inversa para esta matriz. \n",
    "\n",
    "Si intentamos invertir una matriz singular `NumPy` nos avisará de ello lanzando un `LinAlgError`.\n",
    "\n",
    "En el álgebra lineal numérica, estos problemas se denominan **problemas de inestabilidad numérica**, y se suelen resolver con técnicas de regularización. \n",
    "\n",
    "El objetivo de la regularización es asegurarse que la inversa existe, forzando a la matriz a ser invertible. \n",
    "\n",
    "Una forma de hacer la regularización es añadir un pequeño número a cada elemento diagonal de la matriz. \n",
    "\n",
    "Entonces obtenemos la siguiente fórmula para la regresión lineal:\n",
    "\n",
    "$\\beta = (X^{T}X + r I)^{-1}X^{T}y$\n",
    "\n",
    "Vamos a crear una nueva función que utilice esta idea e implemente la regresión lineal con regularización."
   ]
  },
  {
   "cell_type": "code",
   "execution_count": 36,
   "metadata": {},
   "outputs": [],
   "source": [
    "def train_linear_regression_reg(X, y, r=0.0):\n",
    "    ones = np.ones(X.shape[0])\n",
    "    X = np.column_stack([ones, X])\n",
    "\n",
    "    XTX = X.T.dot(X)\n",
    "    reg = r * np.eye(XTX.shape[0])\n",
    "    XTX = XTX + reg\n",
    "\n",
    "    XTX_inv = np.linalg.inv(XTX)\n",
    "    w = XTX_inv.dot(X.T).dot(y)\n",
    "    \n",
    "    return w[0], w[1:]"
   ]
  },
  {
   "cell_type": "code",
   "execution_count": 37,
   "metadata": {},
   "outputs": [],
   "source": [
    "X_train = prepare_X(df_train)"
   ]
  },
  {
   "cell_type": "markdown",
   "metadata": {},
   "source": [
    "Comprobemos qué ocurre con nuestras ponderaciones para diferentes valores de `r` :"
   ]
  },
  {
   "cell_type": "code",
   "execution_count": 38,
   "metadata": {},
   "outputs": [
    {
     "name": "stdout",
     "output_type": "stream",
     "text": [
      "    0, -5225093807643363.00, 1.56, 5225093807640315.00\n",
      "0.001, 7.20, -0.10, 1.81\n",
      " 0.01, 7.18, -0.10, 1.81\n",
      "  0.1, 7.05, -0.10, 1.78\n",
      "    1, 6.22, -0.10, 1.56\n",
      "   10, 4.39, -0.09, 1.08\n"
     ]
    }
   ],
   "source": [
    "for r in [0, 0.001, 0.01, 0.1, 1, 10]:\n",
    "    w_0, w = train_linear_regression_reg(X_train, y_train, r=r)\n",
    "    print('%5s, %.2f, %.2f, %.2f' % (r, w_0, w[13], w[21]))"
   ]
  },
  {
   "cell_type": "markdown",
   "metadata": {},
   "source": [
    "Vemos que los valores que seleccionamos se hacen más pequeños a medida que `r` crece.\n",
    "\n",
    "Ahora vamos a comprobar si la regularización ayuda a nuestro problema y qué RMSE obtenemos.\n",
    "\n",
    "Vamos a ejecutarlo con $r=0.001$:"
   ]
  },
  {
   "cell_type": "code",
   "execution_count": 39,
   "metadata": {},
   "outputs": [
    {
     "name": "stdout",
     "output_type": "stream",
     "text": [
      "Entrenamento 0.4643124894529771\n",
      "Validación 0.46023949630305716\n"
     ]
    }
   ],
   "source": [
    "X_train = prepare_X(df_train)\n",
    "b_0, b = train_linear_regression_reg(X_train, y_train, r=0.01)\n",
    "\n",
    "y_pred = b_0 + X_train.dot(b)\n",
    "print('Entrenamento', rmse(y_train, y_pred))\n",
    "\n",
    "X_val = prepare_X(df_val)\n",
    "y_pred = b_0 + X_val.dot(b)\n",
    "print('Validación', rmse(y_val, y_pred))"
   ]
  },
  {
   "cell_type": "markdown",
   "metadata": {},
   "source": [
    "Este resultado supone una mejora respecto a la puntuación anterior: $0,507$."
   ]
  },
  {
   "cell_type": "markdown",
   "metadata": {},
   "source": [
    "### Utilización del modelo\n",
    "\n",
    "Como ya tenemos un modelo, podemos empezar a utilizarlo para predecir el precio de un auto.\n",
    "\n",
    "Supongamos que un usuario publica el siguiente anuncio en nuestro sitio web:"
   ]
  },
  {
   "cell_type": "code",
   "execution_count": 40,
   "metadata": {},
   "outputs": [
    {
     "data": {
      "text/plain": [
       "{'city_mpg': 18,\n",
       " 'driven_wheels': 'all_wheel_drive',\n",
       " 'engine_cylinders': 6.0,\n",
       " 'engine_fuel_type': 'regular_unleaded',\n",
       " 'engine_hp': 268.0,\n",
       " 'highway_mpg': 25,\n",
       " 'make': 'toyota',\n",
       " 'market_category': 'crossover,performance',\n",
       " 'model': 'venza',\n",
       " 'number_of_doors': 4.0,\n",
       " 'popularity': 2031,\n",
       " 'transmission_type': 'automatic',\n",
       " 'vehicle_size': 'midsize',\n",
       " 'vehicle_style': 'wagon',\n",
       " 'year': 2013}"
      ]
     },
     "execution_count": 40,
     "metadata": {},
     "output_type": "execute_result"
    }
   ],
   "source": [
    "i = 2\n",
    "ad = df_test.iloc[i].to_dict()\n",
    "ad"
   ]
  },
  {
   "cell_type": "markdown",
   "metadata": {},
   "source": [
    "Nos gustaría sugerir el precio de este auto. Para ello, utilizamos nuestro modelo:"
   ]
  },
  {
   "cell_type": "code",
   "execution_count": 41,
   "metadata": {},
   "outputs": [
    {
     "data": {
      "text/plain": [
       "28294.13588598235"
      ]
     },
     "execution_count": 41,
     "metadata": {},
     "output_type": "execute_result"
    }
   ],
   "source": [
    "X_test = prepare_X(pd.DataFrame([ad]))[0]\n",
    "y_pred = b_0 + X_test.dot(b)\n",
    "suggestion = np.expm1(y_pred)\n",
    "suggestion"
   ]
  },
  {
   "cell_type": "markdown",
   "metadata": {},
   "source": [
    "La salida es de $28.294,13$. El precio real de este coche es de $31.120$ dólares, por lo que nuestro modelo no se aleja del precio real."
   ]
  },
  {
   "cell_type": "code",
   "execution_count": null,
   "metadata": {},
   "outputs": [],
   "source": []
  }
 ],
 "metadata": {
  "kernelspec": {
   "display_name": "Python 3",
   "language": "python",
   "name": "python3"
  },
  "language_info": {
   "codemirror_mode": {
    "name": "ipython",
    "version": 3
   },
   "file_extension": ".py",
   "mimetype": "text/x-python",
   "name": "python",
   "nbconvert_exporter": "python",
   "pygments_lexer": "ipython3",
   "version": "3.6.9"
  }
 },
 "nbformat": 4,
 "nbformat_minor": 2
}
